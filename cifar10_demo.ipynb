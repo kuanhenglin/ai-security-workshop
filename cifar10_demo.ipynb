{
 "cells": [
  {
   "cell_type": "markdown",
   "metadata": {
    "id": "dZrwzXDInBi7"
   },
   "source": [
    "# CIFAR-10 Demo\n",
    "\n",
    "ACM Cyber Special Topics Track Week 3 (ft. ACM AI)"
   ]
  },
  {
   "cell_type": "code",
   "execution_count": 1,
   "metadata": {
    "id": "JoGiq9lwgYxW"
   },
   "outputs": [],
   "source": [
    "# numpy: the library that deals with linear algebra calculations\n",
    "import numpy as np\n",
    "# (py)torch: our machine learning library!\n",
    "import torch\n",
    "import torch.nn.functional as F\n",
    "from torch import nn, optim, utils\n",
    "from torchvision import datasets, transforms\n",
    "# matplotlib: making plots & displaying images\n",
    "import matplotlib.pyplot as plt\n",
    "\n",
    "from tqdm.notebook import tqdm"
   ]
  },
  {
   "cell_type": "code",
   "execution_count": 2,
   "metadata": {
    "colab": {
     "base_uri": "https://localhost:8080/"
    },
    "id": "6Xt57nWkfw_D",
    "outputId": "b1ff5932-00c9-4e1e-93aa-817d2a95d506"
   },
   "outputs": [
    {
     "name": "stdout",
     "output_type": "stream",
     "text": [
      "Device: cuda\n"
     ]
    }
   ],
   "source": [
    "device = torch.device(\"cuda\" if torch.cuda.is_available() else \"cpu\")\n",
    "print(f\"Device: {device}\")  # gpu training"
   ]
  },
  {
   "cell_type": "markdown",
   "metadata": {
    "id": "jt1e6CzqnaXU"
   },
   "source": [
    "## Data\n",
    "\n",
    "We are using CIFAR-10."
   ]
  },
  {
   "cell_type": "code",
   "execution_count": 3,
   "metadata": {
    "colab": {
     "base_uri": "https://localhost:8080/",
     "height": 101,
     "referenced_widgets": [
      "cfc82b5de41d4b4c9c1cc07f47d0693f",
      "c6d7267ba528433986354f3db349778f",
      "570279fafa474644958384105c5403b0",
      "25bffd4947a847c387d0d11c04e739fd",
      "ddf562cdd0e4495ab32ecd1dae051716",
      "ff7df9ad89904e8086583d276ecbe184",
      "346514d461a14164986c4476439e8ccf",
      "9a8225bf340547e3a91920256cbd0adb",
      "34b9ccf8373f4005af8f35cc220b0e52",
      "4419f484f2cf42f4bf300d01b028444e",
      "d1cc94e3aade4f45b97d7a91d3351e85"
     ]
    },
    "id": "T6lKY90DNJXy",
    "outputId": "2fbeecd5-64c5-46f3-8ce4-dd7913d3a03e"
   },
   "outputs": [
    {
     "name": "stdout",
     "output_type": "stream",
     "text": [
      "Files already downloaded and verified\n",
      "Files already downloaded and verified\n"
     ]
    }
   ],
   "source": [
    "# pre-process images\n",
    "transform = transforms.Compose([transforms.ToTensor()])  # convert image to pytorch tensor\n",
    "\n",
    "train_dataset = datasets.CIFAR10(root='./data', train=True, download=True, transform=transform)\n",
    "train_loader = utils.data.DataLoader(train_dataset, batch_size=128, shuffle=True, num_workers=2)\n",
    "\n",
    "test_dataset = datasets.CIFAR10(root='./data', train=False, download=True, transform=transform)\n",
    "test_loader = utils.data.DataLoader(test_dataset, batch_size=128, shuffle=True, num_workers=2)"
   ]
  },
  {
   "cell_type": "code",
   "execution_count": 4,
   "metadata": {
    "id": "IdS4ry-9odQh"
   },
   "outputs": [],
   "source": [
    "data_augmentation = nn.Sequential(transforms.RandomHorizontalFlip(),\n",
    "                                  transforms.RandomCrop((32, 32), padding=(4, 4)))\n",
    "data_augmentation = torch.jit.script(data_augmentation)"
   ]
  },
  {
   "cell_type": "markdown",
   "metadata": {
    "id": "6grzdoeuniX0"
   },
   "source": [
    "## Network"
   ]
  },
  {
   "cell_type": "code",
   "execution_count": 5,
   "metadata": {
    "id": "qrJaDXbrOJ3H"
   },
   "outputs": [],
   "source": [
    "class CNNLarge(nn.Module):\n",
    "\n",
    "    def __init__(self):\n",
    "        super().__init__()\n",
    "\n",
    "        self.network = nn.Sequential(\n",
    "            # layer 1: 3 x 32 x 32 -> 32 x 32 x 32 (format: channel x width x height)\n",
    "            nn.Conv2d(3, 32, kernel_size=3, stride=1, padding=1),\n",
    "            nn.ReLU(),\n",
    "            nn.BatchNorm2d(32),\n",
    "            # layer 2: 32 x 32 x 32 -> 32 x 16 x 16\n",
    "            nn.Conv2d(32, 32, kernel_size=3, stride=2, padding=1),\n",
    "            nn.ReLU(),\n",
    "            nn.BatchNorm2d(32),\n",
    "            # layer 3: 32 x 16 x 16 -> 64 x 16 x 16\n",
    "            nn.Conv2d(32, 64, kernel_size=3, stride=1, padding=1),\n",
    "            nn.ReLU(),\n",
    "            nn.BatchNorm2d(64),\n",
    "            # layer 4: 64 x 16 x 16 -> 64 x 8 x 8\n",
    "            nn.Conv2d(64, 64, kernel_size=3, stride=2, padding=1),\n",
    "            nn.ReLU(),\n",
    "            nn.BatchNorm2d(64),\n",
    "            # layer 5: 64 x 8 x 8 -> 64 x 8 x 8\n",
    "            nn.Conv2d(64, 64, kernel_size=3, stride=1, padding=1),\n",
    "            nn.ReLU(),\n",
    "            nn.BatchNorm2d(64),\n",
    "            # layer 6: 64 x 8 x 8 -> 128 x 4 x 4\n",
    "            nn.Conv2d(64, 128, kernel_size=3, stride=2, padding=1),\n",
    "            nn.ReLU(),\n",
    "            nn.BatchNorm2d(128),\n",
    "            # flatten and output fully-connected layer\n",
    "            nn.Flatten(),\n",
    "            nn.Linear(128 * 4 * 4, 10))\n",
    "    \n",
    "    def forward(self, x):\n",
    "        x = self.network(x)\n",
    "        return x\n",
    "\n",
    "    def size(self):\n",
    "        parameters = self.parameters()\n",
    "        size = 0\n",
    "        for parameter in parameters:\n",
    "            size += np.prod(parameter.shape)\n",
    "        return size"
   ]
  },
  {
   "cell_type": "code",
   "execution_count": 6,
   "metadata": {
    "id": "Ah4dHV_PQ20H"
   },
   "outputs": [],
   "source": [
    "class CNNSmall(nn.Module):\n",
    "\n",
    "    def __init__(self):\n",
    "        super().__init__()\n",
    "\n",
    "        self.network = nn.Sequential(\n",
    "            # layer 1: 3 x 32 x 32 -> 32 x 16 x 16 (format: channel x width x height)\n",
    "            nn.Conv2d(3, 32, kernel_size=3, stride=2, padding=1),\n",
    "            nn.ReLU(),\n",
    "            nn.BatchNorm2d(32),\n",
    "            # layer 2: 32 x 16 x 16 -> 64 x 8 x 8\n",
    "            nn.Conv2d(32, 64, kernel_size=3, stride=2, padding=1),\n",
    "            nn.ReLU(),\n",
    "            nn.BatchNorm2d(64),\n",
    "            # layer 3: 64 x 8 x 8 -> 64 x 4 x 4\n",
    "            nn.Conv2d(64, 64, kernel_size=3, stride=2, padding=1),\n",
    "            nn.ReLU(),\n",
    "            nn.BatchNorm2d(64),\n",
    "            # flatten and output fully-connected layer\n",
    "            nn.Flatten(),\n",
    "            nn.Linear(64 * 4 * 4, 10))\n",
    "    \n",
    "    def forward(self, x):\n",
    "        x = self.network(x)\n",
    "        return x\n",
    "\n",
    "    def size(self):\n",
    "        parameters = self.parameters()\n",
    "        size = 0\n",
    "        for parameter in parameters:\n",
    "            size += np.prod(parameter.shape)\n",
    "        return size"
   ]
  },
  {
   "cell_type": "code",
   "execution_count": 7,
   "metadata": {
    "colab": {
     "base_uri": "https://localhost:8080/"
    },
    "id": "8H-aU4NuUdvV",
    "outputId": "8659d707-ef84-49b5-be20-4d245645100f"
   },
   "outputs": [
    {
     "name": "stdout",
     "output_type": "stream",
     "text": [
      "Network size: 197610\n"
     ]
    }
   ],
   "source": [
    "network = CNNLarge()  # let's use the large one :D\n",
    "network.to(device)  # put network (i.e., network parameters) on gpu\n",
    "print(f\"Network size: {network.size()}\")"
   ]
  },
  {
   "cell_type": "markdown",
   "metadata": {
    "id": "bbx-sToxntAH"
   },
   "source": [
    "## Criterion and Optimizer"
   ]
  },
  {
   "cell_type": "code",
   "execution_count": 8,
   "metadata": {
    "id": "oC_LoLPpVgTf"
   },
   "outputs": [],
   "source": [
    "i_max = 64000\n",
    "\n",
    "criterion = nn.CrossEntropyLoss()\n",
    "optimizer = optim.SGD(network.parameters(), lr=0.1, momentum=0.9, nesterov=True)\n",
    "# learning rate scheduler follows the original ResNet paper: https://arxiv.org/abs/1512.03385\n",
    "# I have found that this scheduler works quite well for batch normalization deep models\n",
    "scheduler = optim.lr_scheduler.MultiStepLR(optimizer, milestones=[i_max // 2, i_max // 4 * 3],\n",
    "                                           gamma=0.1)"
   ]
  },
  {
   "cell_type": "markdown",
   "metadata": {
    "id": "sTjCLPHKnw33"
   },
   "source": [
    "## Training\n",
    "\n",
    "I know it is bad practice to use the test set for both validation and testing, but splitting the train set to create a validation set just needlessly complicates what we are trying to do here (that is, to train some base model for the FGSM demo)."
   ]
  },
  {
   "cell_type": "code",
   "execution_count": 9,
   "metadata": {
    "id": "ipG_G-QMdqd3"
   },
   "outputs": [],
   "source": [
    "@torch.no_grad()\n",
    "def evaluate(loader, network, criterion):  # not the best implementation :P\n",
    "    losses = []\n",
    "    accuracies = []\n",
    "    for inputs, labels in loader:\n",
    "        inputs = inputs.to(device)  # put inputs and labels on gpu\n",
    "        labels = labels.to(device)\n",
    "        outputs = network(inputs)  # pass inputs through network to get outputs\n",
    "        loss = criterion(outputs, labels)  # evaluate outputs with criterion to get loss\n",
    "        accuracy = (torch.max(outputs, dim=1)[1] == labels).to(torch.float32).mean()  # accuracy\n",
    "        losses.append(loss.cpu().numpy())\n",
    "        accuracies.append(accuracy.cpu().numpy())\n",
    "    return np.mean(losses), np.mean(accuracies)"
   ]
  },
  {
   "cell_type": "code",
   "execution_count": 10,
   "metadata": {
    "colab": {
     "base_uri": "https://localhost:8080/",
     "height": 1000,
     "referenced_widgets": [
      "65ca568defac407b9ab357380dbf9dec",
      "22dc441b57d84ee9989270efe596bc65",
      "3a8a6ab5393748a788795f3946ead89b",
      "a8bd634569f649ec8183d5ba4479eed0",
      "eec96ad8007046c787b225b3d8ff3349",
      "853d18b07aff4de4b3b8ae658d7caaa1",
      "9cd9642942a34fc599ce510d0c31f94a",
      "69c4d204edfe4f9fb2ce5d930fdd7b10",
      "b39c16fce62a440cbc1ca3035d73756f",
      "a272d00885ce4a618bdf4db4b376749c",
      "1fc54ee8667446eebbed3e0db58cbcad"
     ]
    },
    "id": "7rmNc5kWcmOn",
    "outputId": "9939d27b-3979-46d3-a958-f5d44abd6297"
   },
   "outputs": [
    {
     "data": {
      "application/vnd.jupyter.widget-view+json": {
       "model_id": "57ac783476ce421facfcb5d14d5979b1",
       "version_major": 2,
       "version_minor": 0
      },
      "text/plain": [
       "  0%|          | 0/64000 [00:00<?, ?it/s]"
      ]
     },
     "metadata": {},
     "output_type": "display_data"
    },
    {
     "name": "stderr",
     "output_type": "stream",
     "text": [
      "/home/jordan/anaconda3/envs/pytorch/lib/python3.9/site-packages/torch/nn/modules/module.py:1194: UserWarning: operator() profile_node %245 : int = prim::profile_ivalue(%out_dtype.2)\n",
      " does not have profile information (Triggered internally at /opt/conda/conda-bld/pytorch_1670525539683/work/torch/csrc/jit/codegen/cuda/graph_fuser.cpp:105.)\n",
      "  return forward_call(*input, **kwargs)\n"
     ]
    },
    {
     "name": "stdout",
     "output_type": "stream",
     "text": [
      "[1280]     Train: 56.162% (1.2386)   Test: 55.814% (1.2574)\n",
      "[2560]     Train: 65.125% (0.9957)   Test: 64.369% (1.0239)\n",
      "[3840]     Train: 71.697% (0.8154)   Test: 69.580% (0.8718)\n",
      "[5120]     Train: 74.761% (0.7215)   Test: 73.071% (0.7886)\n",
      "[6400]     Train: 78.836% (0.6014)   Test: 75.919% (0.6930)\n",
      "[7680]     Train: 80.143% (0.5710)   Test: 77.689% (0.6544)\n",
      "[8960]     Train: 81.309% (0.5390)   Test: 78.411% (0.6385)\n",
      "[10240]    Train: 80.572% (0.5742)   Test: 77.403% (0.6903)\n",
      "[11520]    Train: 82.977% (0.4912)   Test: 79.657% (0.6114)\n",
      "[12800]    Train: 83.845% (0.4553)   Test: 80.528% (0.5772)\n",
      "[14080]    Train: 85.220% (0.4290)   Test: 81.685% (0.5609)\n",
      "[15360]    Train: 85.676% (0.4084)   Test: 81.635% (0.5478)\n",
      "[16640]    Train: 85.875% (0.4072)   Test: 81.971% (0.5494)\n",
      "[17920]    Train: 86.492% (0.3927)   Test: 82.288% (0.5439)\n",
      "[19200]    Train: 86.423% (0.3855)   Test: 82.179% (0.5575)\n",
      "[20480]    Train: 87.037% (0.3760)   Test: 82.446% (0.5637)\n",
      "[21760]    Train: 87.197% (0.3661)   Test: 82.792% (0.5487)\n",
      "[23040]    Train: 89.153% (0.3160)   Test: 83.702% (0.5037)\n",
      "[24320]    Train: 88.198% (0.3393)   Test: 82.921% (0.5366)\n",
      "[25600]    Train: 89.067% (0.3166)   Test: 83.999% (0.5117)\n",
      "[26880]    Train: 89.629% (0.2940)   Test: 84.256% (0.4901)\n",
      "[28160]    Train: 88.667% (0.3185)   Test: 83.306% (0.5405)\n",
      "[29440]    Train: 89.998% (0.2880)   Test: 84.513% (0.4872)\n",
      "[30720]    Train: 89.587% (0.2961)   Test: 84.147% (0.5109)\n",
      "[32000]    Train: 89.352% (0.3098)   Test: 83.465% (0.5600)\n",
      "[33280]    Train: 92.784% (0.2068)   Test: 86.402% (0.4494)\n",
      "[34560]    Train: 93.172% (0.1972)   Test: 85.996% (0.4632)\n",
      "[35840]    Train: 93.249% (0.1922)   Test: 86.303% (0.4499)\n",
      "[37120]    Train: 93.525% (0.1846)   Test: 86.263% (0.4415)\n",
      "[38400]    Train: 93.664% (0.1807)   Test: 86.501% (0.4475)\n",
      "[39680]    Train: 93.712% (0.1794)   Test: 86.214% (0.4570)\n",
      "[40960]    Train: 93.712% (0.1776)   Test: 86.481% (0.4518)\n",
      "[42240]    Train: 93.684% (0.1782)   Test: 86.244% (0.4621)\n",
      "[43520]    Train: 93.893% (0.1731)   Test: 86.580% (0.4526)\n",
      "[44800]    Train: 94.102% (0.1681)   Test: 86.481% (0.4490)\n",
      "[46080]    Train: 94.089% (0.1688)   Test: 86.600% (0.4589)\n",
      "[47360]    Train: 94.030% (0.1714)   Test: 86.155% (0.4716)\n",
      "[48640]    Train: 94.388% (0.1618)   Test: 86.600% (0.4517)\n",
      "[49920]    Train: 94.406% (0.1611)   Test: 86.382% (0.4537)\n",
      "[51200]    Train: 94.246% (0.1642)   Test: 86.303% (0.4617)\n",
      "[52480]    Train: 94.375% (0.1620)   Test: 86.560% (0.4551)\n",
      "[53760]    Train: 94.486% (0.1582)   Test: 86.540% (0.4584)\n",
      "[55040]    Train: 94.394% (0.1606)   Test: 86.570% (0.4548)\n",
      "[56320]    Train: 94.400% (0.1609)   Test: 86.639% (0.4561)\n",
      "[57600]    Train: 94.472% (0.1602)   Test: 86.540% (0.4596)\n",
      "[58880]    Train: 94.490% (0.1585)   Test: 86.511% (0.4502)\n",
      "[60160]    Train: 94.367% (0.1608)   Test: 86.600% (0.4604)\n",
      "[61440]    Train: 94.421% (0.1601)   Test: 86.639% (0.4591)\n",
      "[62720]    Train: 94.407% (0.1591)   Test: 86.758% (0.4546)\n",
      "[64000]    Train: 94.346% (0.1619)   Test: 86.590% (0.4619)\n"
     ]
    }
   ],
   "source": [
    "progress = tqdm(total=i_max)\n",
    "\n",
    "i = 0\n",
    "while i < i_max:  # jank way to do exactly i_max iterations\n",
    "    for inputs, labels in train_loader:\n",
    "        network.train()\n",
    "        inputs = inputs.to(device)  # put inputs and labels on gpu\n",
    "        labels = labels.to(device)\n",
    "        inputs = data_augmentation(inputs)\n",
    "        optimizer.zero_grad()  # zero-out gradients\n",
    "        outputs = network(inputs)  # pass inputs through network to get outputs\n",
    "        loss = criterion(outputs, labels)  # evaluate outputs bwith criterion to get loss\n",
    "        loss.backward()  # backpropagate through loss to compute gradients\n",
    "        optimizer.step()  # use gradients to perform SGD\n",
    "        scheduler.step()  # update learning rate\n",
    "        if (i + 1) % (i_max // 50) == 0:  # evaluate on train and test datasets, print results\n",
    "            network.eval()\n",
    "            train_loss, train_accuracy = evaluate(train_loader, network, criterion)\n",
    "            test_loss, test_accuracy = evaluate(test_loader, network, criterion)\n",
    "            result = f\"{('[' + str(i + 1) + ']'):8s}   \"\\\n",
    "                     f\"Train: {str(train_accuracy * 100):.6}% ({str(train_loss):.6})   \"\\\n",
    "                     f\"Test: {str(test_accuracy * 100):.6}% ({str(test_loss):.6})\"\n",
    "            progress.write(result)\n",
    "        i += 1  # update iterations\n",
    "        progress.update(1)\n",
    "        if i >= i_max:  # stop at maximum iterations\n",
    "            break"
   ]
  },
  {
   "cell_type": "markdown",
   "metadata": {},
   "source": [
    "## Saving Weights"
   ]
  },
  {
   "cell_type": "code",
   "execution_count": 11,
   "metadata": {},
   "outputs": [],
   "source": [
    "torch.save(network.state_dict(), \"cifar10_model.pth\")"
   ]
  },
  {
   "cell_type": "markdown",
   "metadata": {},
   "source": [
    "## Loading Weights & Evaluate"
   ]
  },
  {
   "cell_type": "code",
   "execution_count": 12,
   "metadata": {},
   "outputs": [
    {
     "data": {
      "text/plain": [
       "CNNLarge(\n",
       "  (network): Sequential(\n",
       "    (0): Conv2d(3, 32, kernel_size=(3, 3), stride=(1, 1), padding=(1, 1))\n",
       "    (1): ReLU()\n",
       "    (2): BatchNorm2d(32, eps=1e-05, momentum=0.1, affine=True, track_running_stats=True)\n",
       "    (3): Conv2d(32, 32, kernel_size=(3, 3), stride=(2, 2), padding=(1, 1))\n",
       "    (4): ReLU()\n",
       "    (5): BatchNorm2d(32, eps=1e-05, momentum=0.1, affine=True, track_running_stats=True)\n",
       "    (6): Conv2d(32, 64, kernel_size=(3, 3), stride=(1, 1), padding=(1, 1))\n",
       "    (7): ReLU()\n",
       "    (8): BatchNorm2d(64, eps=1e-05, momentum=0.1, affine=True, track_running_stats=True)\n",
       "    (9): Conv2d(64, 64, kernel_size=(3, 3), stride=(2, 2), padding=(1, 1))\n",
       "    (10): ReLU()\n",
       "    (11): BatchNorm2d(64, eps=1e-05, momentum=0.1, affine=True, track_running_stats=True)\n",
       "    (12): Conv2d(64, 64, kernel_size=(3, 3), stride=(1, 1), padding=(1, 1))\n",
       "    (13): ReLU()\n",
       "    (14): BatchNorm2d(64, eps=1e-05, momentum=0.1, affine=True, track_running_stats=True)\n",
       "    (15): Conv2d(64, 128, kernel_size=(3, 3), stride=(2, 2), padding=(1, 1))\n",
       "    (16): ReLU()\n",
       "    (17): BatchNorm2d(128, eps=1e-05, momentum=0.1, affine=True, track_running_stats=True)\n",
       "    (18): Flatten(start_dim=1, end_dim=-1)\n",
       "    (19): Linear(in_features=2048, out_features=10, bias=True)\n",
       "  )\n",
       ")"
      ]
     },
     "execution_count": 12,
     "metadata": {},
     "output_type": "execute_result"
    }
   ],
   "source": [
    "network_load = CNNLarge()\n",
    "network_load.load_state_dict(torch.load(\"cifar10_model.pth\"))\n",
    "network_load.to(device)\n",
    "network.eval()"
   ]
  },
  {
   "cell_type": "code",
   "execution_count": 13,
   "metadata": {},
   "outputs": [
    {
     "name": "stdout",
     "output_type": "stream",
     "text": [
      "Test accuracy: 86.570%     Test loss: 0.4508\n"
     ]
    }
   ],
   "source": [
    "test_loss, test_accuracy = evaluate(test_loader, network_load, criterion)\n",
    "print(f\"Test accuracy: {str(test_accuracy * 100):.6}%     Test loss: {str(test_loss):.6}\")"
   ]
  }
 ],
 "metadata": {
  "accelerator": "GPU",
  "colab": {
   "provenance": []
  },
  "gpuClass": "standard",
  "kernelspec": {
   "display_name": "Python 3",
   "language": "python",
   "name": "python3"
  },
  "language_info": {
   "codemirror_mode": {
    "name": "ipython",
    "version": 3
   },
   "file_extension": ".py",
   "mimetype": "text/x-python",
   "name": "python",
   "nbconvert_exporter": "python",
   "pygments_lexer": "ipython3",
   "version": "3.9.16"
  },
  "widgets": {
   "application/vnd.jupyter.widget-state+json": {
    "1fc54ee8667446eebbed3e0db58cbcad": {
     "model_module": "@jupyter-widgets/controls",
     "model_module_version": "1.5.0",
     "model_name": "DescriptionStyleModel",
     "state": {
      "_model_module": "@jupyter-widgets/controls",
      "_model_module_version": "1.5.0",
      "_model_name": "DescriptionStyleModel",
      "_view_count": null,
      "_view_module": "@jupyter-widgets/base",
      "_view_module_version": "1.2.0",
      "_view_name": "StyleView",
      "description_width": ""
     }
    },
    "22dc441b57d84ee9989270efe596bc65": {
     "model_module": "@jupyter-widgets/controls",
     "model_module_version": "1.5.0",
     "model_name": "HTMLModel",
     "state": {
      "_dom_classes": [],
      "_model_module": "@jupyter-widgets/controls",
      "_model_module_version": "1.5.0",
      "_model_name": "HTMLModel",
      "_view_count": null,
      "_view_module": "@jupyter-widgets/controls",
      "_view_module_version": "1.5.0",
      "_view_name": "HTMLView",
      "description": "",
      "description_tooltip": null,
      "layout": "IPY_MODEL_853d18b07aff4de4b3b8ae658d7caaa1",
      "placeholder": "​",
      "style": "IPY_MODEL_9cd9642942a34fc599ce510d0c31f94a",
      "value": "100%"
     }
    },
    "25bffd4947a847c387d0d11c04e739fd": {
     "model_module": "@jupyter-widgets/controls",
     "model_module_version": "1.5.0",
     "model_name": "HTMLModel",
     "state": {
      "_dom_classes": [],
      "_model_module": "@jupyter-widgets/controls",
      "_model_module_version": "1.5.0",
      "_model_name": "HTMLModel",
      "_view_count": null,
      "_view_module": "@jupyter-widgets/controls",
      "_view_module_version": "1.5.0",
      "_view_name": "HTMLView",
      "description": "",
      "description_tooltip": null,
      "layout": "IPY_MODEL_4419f484f2cf42f4bf300d01b028444e",
      "placeholder": "​",
      "style": "IPY_MODEL_d1cc94e3aade4f45b97d7a91d3351e85",
      "value": " 170498071/170498071 [00:05&lt;00:00, 31512942.23it/s]"
     }
    },
    "346514d461a14164986c4476439e8ccf": {
     "model_module": "@jupyter-widgets/controls",
     "model_module_version": "1.5.0",
     "model_name": "DescriptionStyleModel",
     "state": {
      "_model_module": "@jupyter-widgets/controls",
      "_model_module_version": "1.5.0",
      "_model_name": "DescriptionStyleModel",
      "_view_count": null,
      "_view_module": "@jupyter-widgets/base",
      "_view_module_version": "1.2.0",
      "_view_name": "StyleView",
      "description_width": ""
     }
    },
    "34b9ccf8373f4005af8f35cc220b0e52": {
     "model_module": "@jupyter-widgets/controls",
     "model_module_version": "1.5.0",
     "model_name": "ProgressStyleModel",
     "state": {
      "_model_module": "@jupyter-widgets/controls",
      "_model_module_version": "1.5.0",
      "_model_name": "ProgressStyleModel",
      "_view_count": null,
      "_view_module": "@jupyter-widgets/base",
      "_view_module_version": "1.2.0",
      "_view_name": "StyleView",
      "bar_color": null,
      "description_width": ""
     }
    },
    "3a8a6ab5393748a788795f3946ead89b": {
     "model_module": "@jupyter-widgets/controls",
     "model_module_version": "1.5.0",
     "model_name": "FloatProgressModel",
     "state": {
      "_dom_classes": [],
      "_model_module": "@jupyter-widgets/controls",
      "_model_module_version": "1.5.0",
      "_model_name": "FloatProgressModel",
      "_view_count": null,
      "_view_module": "@jupyter-widgets/controls",
      "_view_module_version": "1.5.0",
      "_view_name": "ProgressView",
      "bar_style": "",
      "description": "",
      "description_tooltip": null,
      "layout": "IPY_MODEL_69c4d204edfe4f9fb2ce5d930fdd7b10",
      "max": 64000,
      "min": 0,
      "orientation": "horizontal",
      "style": "IPY_MODEL_b39c16fce62a440cbc1ca3035d73756f",
      "value": 64000
     }
    },
    "4419f484f2cf42f4bf300d01b028444e": {
     "model_module": "@jupyter-widgets/base",
     "model_module_version": "1.2.0",
     "model_name": "LayoutModel",
     "state": {
      "_model_module": "@jupyter-widgets/base",
      "_model_module_version": "1.2.0",
      "_model_name": "LayoutModel",
      "_view_count": null,
      "_view_module": "@jupyter-widgets/base",
      "_view_module_version": "1.2.0",
      "_view_name": "LayoutView",
      "align_content": null,
      "align_items": null,
      "align_self": null,
      "border": null,
      "bottom": null,
      "display": null,
      "flex": null,
      "flex_flow": null,
      "grid_area": null,
      "grid_auto_columns": null,
      "grid_auto_flow": null,
      "grid_auto_rows": null,
      "grid_column": null,
      "grid_gap": null,
      "grid_row": null,
      "grid_template_areas": null,
      "grid_template_columns": null,
      "grid_template_rows": null,
      "height": null,
      "justify_content": null,
      "justify_items": null,
      "left": null,
      "margin": null,
      "max_height": null,
      "max_width": null,
      "min_height": null,
      "min_width": null,
      "object_fit": null,
      "object_position": null,
      "order": null,
      "overflow": null,
      "overflow_x": null,
      "overflow_y": null,
      "padding": null,
      "right": null,
      "top": null,
      "visibility": null,
      "width": null
     }
    },
    "570279fafa474644958384105c5403b0": {
     "model_module": "@jupyter-widgets/controls",
     "model_module_version": "1.5.0",
     "model_name": "FloatProgressModel",
     "state": {
      "_dom_classes": [],
      "_model_module": "@jupyter-widgets/controls",
      "_model_module_version": "1.5.0",
      "_model_name": "FloatProgressModel",
      "_view_count": null,
      "_view_module": "@jupyter-widgets/controls",
      "_view_module_version": "1.5.0",
      "_view_name": "ProgressView",
      "bar_style": "success",
      "description": "",
      "description_tooltip": null,
      "layout": "IPY_MODEL_9a8225bf340547e3a91920256cbd0adb",
      "max": 170498071,
      "min": 0,
      "orientation": "horizontal",
      "style": "IPY_MODEL_34b9ccf8373f4005af8f35cc220b0e52",
      "value": 170498071
     }
    },
    "65ca568defac407b9ab357380dbf9dec": {
     "model_module": "@jupyter-widgets/controls",
     "model_module_version": "1.5.0",
     "model_name": "HBoxModel",
     "state": {
      "_dom_classes": [],
      "_model_module": "@jupyter-widgets/controls",
      "_model_module_version": "1.5.0",
      "_model_name": "HBoxModel",
      "_view_count": null,
      "_view_module": "@jupyter-widgets/controls",
      "_view_module_version": "1.5.0",
      "_view_name": "HBoxView",
      "box_style": "",
      "children": [
       "IPY_MODEL_22dc441b57d84ee9989270efe596bc65",
       "IPY_MODEL_3a8a6ab5393748a788795f3946ead89b",
       "IPY_MODEL_a8bd634569f649ec8183d5ba4479eed0"
      ],
      "layout": "IPY_MODEL_eec96ad8007046c787b225b3d8ff3349"
     }
    },
    "69c4d204edfe4f9fb2ce5d930fdd7b10": {
     "model_module": "@jupyter-widgets/base",
     "model_module_version": "1.2.0",
     "model_name": "LayoutModel",
     "state": {
      "_model_module": "@jupyter-widgets/base",
      "_model_module_version": "1.2.0",
      "_model_name": "LayoutModel",
      "_view_count": null,
      "_view_module": "@jupyter-widgets/base",
      "_view_module_version": "1.2.0",
      "_view_name": "LayoutView",
      "align_content": null,
      "align_items": null,
      "align_self": null,
      "border": null,
      "bottom": null,
      "display": null,
      "flex": null,
      "flex_flow": null,
      "grid_area": null,
      "grid_auto_columns": null,
      "grid_auto_flow": null,
      "grid_auto_rows": null,
      "grid_column": null,
      "grid_gap": null,
      "grid_row": null,
      "grid_template_areas": null,
      "grid_template_columns": null,
      "grid_template_rows": null,
      "height": null,
      "justify_content": null,
      "justify_items": null,
      "left": null,
      "margin": null,
      "max_height": null,
      "max_width": null,
      "min_height": null,
      "min_width": null,
      "object_fit": null,
      "object_position": null,
      "order": null,
      "overflow": null,
      "overflow_x": null,
      "overflow_y": null,
      "padding": null,
      "right": null,
      "top": null,
      "visibility": null,
      "width": null
     }
    },
    "853d18b07aff4de4b3b8ae658d7caaa1": {
     "model_module": "@jupyter-widgets/base",
     "model_module_version": "1.2.0",
     "model_name": "LayoutModel",
     "state": {
      "_model_module": "@jupyter-widgets/base",
      "_model_module_version": "1.2.0",
      "_model_name": "LayoutModel",
      "_view_count": null,
      "_view_module": "@jupyter-widgets/base",
      "_view_module_version": "1.2.0",
      "_view_name": "LayoutView",
      "align_content": null,
      "align_items": null,
      "align_self": null,
      "border": null,
      "bottom": null,
      "display": null,
      "flex": null,
      "flex_flow": null,
      "grid_area": null,
      "grid_auto_columns": null,
      "grid_auto_flow": null,
      "grid_auto_rows": null,
      "grid_column": null,
      "grid_gap": null,
      "grid_row": null,
      "grid_template_areas": null,
      "grid_template_columns": null,
      "grid_template_rows": null,
      "height": null,
      "justify_content": null,
      "justify_items": null,
      "left": null,
      "margin": null,
      "max_height": null,
      "max_width": null,
      "min_height": null,
      "min_width": null,
      "object_fit": null,
      "object_position": null,
      "order": null,
      "overflow": null,
      "overflow_x": null,
      "overflow_y": null,
      "padding": null,
      "right": null,
      "top": null,
      "visibility": null,
      "width": null
     }
    },
    "9a8225bf340547e3a91920256cbd0adb": {
     "model_module": "@jupyter-widgets/base",
     "model_module_version": "1.2.0",
     "model_name": "LayoutModel",
     "state": {
      "_model_module": "@jupyter-widgets/base",
      "_model_module_version": "1.2.0",
      "_model_name": "LayoutModel",
      "_view_count": null,
      "_view_module": "@jupyter-widgets/base",
      "_view_module_version": "1.2.0",
      "_view_name": "LayoutView",
      "align_content": null,
      "align_items": null,
      "align_self": null,
      "border": null,
      "bottom": null,
      "display": null,
      "flex": null,
      "flex_flow": null,
      "grid_area": null,
      "grid_auto_columns": null,
      "grid_auto_flow": null,
      "grid_auto_rows": null,
      "grid_column": null,
      "grid_gap": null,
      "grid_row": null,
      "grid_template_areas": null,
      "grid_template_columns": null,
      "grid_template_rows": null,
      "height": null,
      "justify_content": null,
      "justify_items": null,
      "left": null,
      "margin": null,
      "max_height": null,
      "max_width": null,
      "min_height": null,
      "min_width": null,
      "object_fit": null,
      "object_position": null,
      "order": null,
      "overflow": null,
      "overflow_x": null,
      "overflow_y": null,
      "padding": null,
      "right": null,
      "top": null,
      "visibility": null,
      "width": null
     }
    },
    "9cd9642942a34fc599ce510d0c31f94a": {
     "model_module": "@jupyter-widgets/controls",
     "model_module_version": "1.5.0",
     "model_name": "DescriptionStyleModel",
     "state": {
      "_model_module": "@jupyter-widgets/controls",
      "_model_module_version": "1.5.0",
      "_model_name": "DescriptionStyleModel",
      "_view_count": null,
      "_view_module": "@jupyter-widgets/base",
      "_view_module_version": "1.2.0",
      "_view_name": "StyleView",
      "description_width": ""
     }
    },
    "a272d00885ce4a618bdf4db4b376749c": {
     "model_module": "@jupyter-widgets/base",
     "model_module_version": "1.2.0",
     "model_name": "LayoutModel",
     "state": {
      "_model_module": "@jupyter-widgets/base",
      "_model_module_version": "1.2.0",
      "_model_name": "LayoutModel",
      "_view_count": null,
      "_view_module": "@jupyter-widgets/base",
      "_view_module_version": "1.2.0",
      "_view_name": "LayoutView",
      "align_content": null,
      "align_items": null,
      "align_self": null,
      "border": null,
      "bottom": null,
      "display": null,
      "flex": null,
      "flex_flow": null,
      "grid_area": null,
      "grid_auto_columns": null,
      "grid_auto_flow": null,
      "grid_auto_rows": null,
      "grid_column": null,
      "grid_gap": null,
      "grid_row": null,
      "grid_template_areas": null,
      "grid_template_columns": null,
      "grid_template_rows": null,
      "height": null,
      "justify_content": null,
      "justify_items": null,
      "left": null,
      "margin": null,
      "max_height": null,
      "max_width": null,
      "min_height": null,
      "min_width": null,
      "object_fit": null,
      "object_position": null,
      "order": null,
      "overflow": null,
      "overflow_x": null,
      "overflow_y": null,
      "padding": null,
      "right": null,
      "top": null,
      "visibility": null,
      "width": null
     }
    },
    "a8bd634569f649ec8183d5ba4479eed0": {
     "model_module": "@jupyter-widgets/controls",
     "model_module_version": "1.5.0",
     "model_name": "HTMLModel",
     "state": {
      "_dom_classes": [],
      "_model_module": "@jupyter-widgets/controls",
      "_model_module_version": "1.5.0",
      "_model_name": "HTMLModel",
      "_view_count": null,
      "_view_module": "@jupyter-widgets/controls",
      "_view_module_version": "1.5.0",
      "_view_name": "HTMLView",
      "description": "",
      "description_tooltip": null,
      "layout": "IPY_MODEL_a272d00885ce4a618bdf4db4b376749c",
      "placeholder": "​",
      "style": "IPY_MODEL_1fc54ee8667446eebbed3e0db58cbcad",
      "value": " 64000/64000 [37:10&lt;00:00, 48.53it/s]"
     }
    },
    "b39c16fce62a440cbc1ca3035d73756f": {
     "model_module": "@jupyter-widgets/controls",
     "model_module_version": "1.5.0",
     "model_name": "ProgressStyleModel",
     "state": {
      "_model_module": "@jupyter-widgets/controls",
      "_model_module_version": "1.5.0",
      "_model_name": "ProgressStyleModel",
      "_view_count": null,
      "_view_module": "@jupyter-widgets/base",
      "_view_module_version": "1.2.0",
      "_view_name": "StyleView",
      "bar_color": null,
      "description_width": ""
     }
    },
    "c6d7267ba528433986354f3db349778f": {
     "model_module": "@jupyter-widgets/controls",
     "model_module_version": "1.5.0",
     "model_name": "HTMLModel",
     "state": {
      "_dom_classes": [],
      "_model_module": "@jupyter-widgets/controls",
      "_model_module_version": "1.5.0",
      "_model_name": "HTMLModel",
      "_view_count": null,
      "_view_module": "@jupyter-widgets/controls",
      "_view_module_version": "1.5.0",
      "_view_name": "HTMLView",
      "description": "",
      "description_tooltip": null,
      "layout": "IPY_MODEL_ff7df9ad89904e8086583d276ecbe184",
      "placeholder": "​",
      "style": "IPY_MODEL_346514d461a14164986c4476439e8ccf",
      "value": "100%"
     }
    },
    "cfc82b5de41d4b4c9c1cc07f47d0693f": {
     "model_module": "@jupyter-widgets/controls",
     "model_module_version": "1.5.0",
     "model_name": "HBoxModel",
     "state": {
      "_dom_classes": [],
      "_model_module": "@jupyter-widgets/controls",
      "_model_module_version": "1.5.0",
      "_model_name": "HBoxModel",
      "_view_count": null,
      "_view_module": "@jupyter-widgets/controls",
      "_view_module_version": "1.5.0",
      "_view_name": "HBoxView",
      "box_style": "",
      "children": [
       "IPY_MODEL_c6d7267ba528433986354f3db349778f",
       "IPY_MODEL_570279fafa474644958384105c5403b0",
       "IPY_MODEL_25bffd4947a847c387d0d11c04e739fd"
      ],
      "layout": "IPY_MODEL_ddf562cdd0e4495ab32ecd1dae051716"
     }
    },
    "d1cc94e3aade4f45b97d7a91d3351e85": {
     "model_module": "@jupyter-widgets/controls",
     "model_module_version": "1.5.0",
     "model_name": "DescriptionStyleModel",
     "state": {
      "_model_module": "@jupyter-widgets/controls",
      "_model_module_version": "1.5.0",
      "_model_name": "DescriptionStyleModel",
      "_view_count": null,
      "_view_module": "@jupyter-widgets/base",
      "_view_module_version": "1.2.0",
      "_view_name": "StyleView",
      "description_width": ""
     }
    },
    "ddf562cdd0e4495ab32ecd1dae051716": {
     "model_module": "@jupyter-widgets/base",
     "model_module_version": "1.2.0",
     "model_name": "LayoutModel",
     "state": {
      "_model_module": "@jupyter-widgets/base",
      "_model_module_version": "1.2.0",
      "_model_name": "LayoutModel",
      "_view_count": null,
      "_view_module": "@jupyter-widgets/base",
      "_view_module_version": "1.2.0",
      "_view_name": "LayoutView",
      "align_content": null,
      "align_items": null,
      "align_self": null,
      "border": null,
      "bottom": null,
      "display": null,
      "flex": null,
      "flex_flow": null,
      "grid_area": null,
      "grid_auto_columns": null,
      "grid_auto_flow": null,
      "grid_auto_rows": null,
      "grid_column": null,
      "grid_gap": null,
      "grid_row": null,
      "grid_template_areas": null,
      "grid_template_columns": null,
      "grid_template_rows": null,
      "height": null,
      "justify_content": null,
      "justify_items": null,
      "left": null,
      "margin": null,
      "max_height": null,
      "max_width": null,
      "min_height": null,
      "min_width": null,
      "object_fit": null,
      "object_position": null,
      "order": null,
      "overflow": null,
      "overflow_x": null,
      "overflow_y": null,
      "padding": null,
      "right": null,
      "top": null,
      "visibility": null,
      "width": null
     }
    },
    "eec96ad8007046c787b225b3d8ff3349": {
     "model_module": "@jupyter-widgets/base",
     "model_module_version": "1.2.0",
     "model_name": "LayoutModel",
     "state": {
      "_model_module": "@jupyter-widgets/base",
      "_model_module_version": "1.2.0",
      "_model_name": "LayoutModel",
      "_view_count": null,
      "_view_module": "@jupyter-widgets/base",
      "_view_module_version": "1.2.0",
      "_view_name": "LayoutView",
      "align_content": null,
      "align_items": null,
      "align_self": null,
      "border": null,
      "bottom": null,
      "display": null,
      "flex": null,
      "flex_flow": null,
      "grid_area": null,
      "grid_auto_columns": null,
      "grid_auto_flow": null,
      "grid_auto_rows": null,
      "grid_column": null,
      "grid_gap": null,
      "grid_row": null,
      "grid_template_areas": null,
      "grid_template_columns": null,
      "grid_template_rows": null,
      "height": null,
      "justify_content": null,
      "justify_items": null,
      "left": null,
      "margin": null,
      "max_height": null,
      "max_width": null,
      "min_height": null,
      "min_width": null,
      "object_fit": null,
      "object_position": null,
      "order": null,
      "overflow": null,
      "overflow_x": null,
      "overflow_y": null,
      "padding": null,
      "right": null,
      "top": null,
      "visibility": null,
      "width": null
     }
    },
    "ff7df9ad89904e8086583d276ecbe184": {
     "model_module": "@jupyter-widgets/base",
     "model_module_version": "1.2.0",
     "model_name": "LayoutModel",
     "state": {
      "_model_module": "@jupyter-widgets/base",
      "_model_module_version": "1.2.0",
      "_model_name": "LayoutModel",
      "_view_count": null,
      "_view_module": "@jupyter-widgets/base",
      "_view_module_version": "1.2.0",
      "_view_name": "LayoutView",
      "align_content": null,
      "align_items": null,
      "align_self": null,
      "border": null,
      "bottom": null,
      "display": null,
      "flex": null,
      "flex_flow": null,
      "grid_area": null,
      "grid_auto_columns": null,
      "grid_auto_flow": null,
      "grid_auto_rows": null,
      "grid_column": null,
      "grid_gap": null,
      "grid_row": null,
      "grid_template_areas": null,
      "grid_template_columns": null,
      "grid_template_rows": null,
      "height": null,
      "justify_content": null,
      "justify_items": null,
      "left": null,
      "margin": null,
      "max_height": null,
      "max_width": null,
      "min_height": null,
      "min_width": null,
      "object_fit": null,
      "object_position": null,
      "order": null,
      "overflow": null,
      "overflow_x": null,
      "overflow_y": null,
      "padding": null,
      "right": null,
      "top": null,
      "visibility": null,
      "width": null
     }
    }
   }
  }
 },
 "nbformat": 4,
 "nbformat_minor": 4
}
